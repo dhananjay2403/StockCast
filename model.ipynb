{
 "cells": [
  {
   "cell_type": "markdown",
   "id": "2215deed",
   "metadata": {},
   "source": [
    "# Data Collection"
   ]
  },
  {
   "cell_type": "code",
   "execution_count": 86,
   "id": "12adc9d0",
   "metadata": {},
   "outputs": [],
   "source": [
    "import yfinance as yf\n",
    "import pandas as pd\n",
    "import numpy as np\n",
    "import matplotlib.pyplot as plt "
   ]
  },
  {
   "cell_type": "code",
   "execution_count": null,
   "id": "c3746e71",
   "metadata": {},
   "outputs": [],
   "source": [
    "df = yf.download('^GSPC', start='1998-01-01')       # ^GSPC is S&P 500 ticker"
   ]
  },
  {
   "cell_type": "code",
   "execution_count": 88,
   "id": "9f5d53bd",
   "metadata": {},
   "outputs": [],
   "source": [
    "df.to_csv('SP500.csv')"
   ]
  },
  {
   "cell_type": "code",
   "execution_count": 89,
   "id": "eb32582e",
   "metadata": {},
   "outputs": [
    {
     "data": {
      "text/html": [
       "<div>\n",
       "<style scoped>\n",
       "    .dataframe tbody tr th:only-of-type {\n",
       "        vertical-align: middle;\n",
       "    }\n",
       "\n",
       "    .dataframe tbody tr th {\n",
       "        vertical-align: top;\n",
       "    }\n",
       "\n",
       "    .dataframe thead tr th {\n",
       "        text-align: left;\n",
       "    }\n",
       "\n",
       "    .dataframe thead tr:last-of-type th {\n",
       "        text-align: right;\n",
       "    }\n",
       "</style>\n",
       "<table border=\"1\" class=\"dataframe\">\n",
       "  <thead>\n",
       "    <tr>\n",
       "      <th>Price</th>\n",
       "      <th>Close</th>\n",
       "      <th>High</th>\n",
       "      <th>Low</th>\n",
       "      <th>Open</th>\n",
       "      <th>Volume</th>\n",
       "    </tr>\n",
       "    <tr>\n",
       "      <th>Ticker</th>\n",
       "      <th>^GSPC</th>\n",
       "      <th>^GSPC</th>\n",
       "      <th>^GSPC</th>\n",
       "      <th>^GSPC</th>\n",
       "      <th>^GSPC</th>\n",
       "    </tr>\n",
       "    <tr>\n",
       "      <th>Date</th>\n",
       "      <th></th>\n",
       "      <th></th>\n",
       "      <th></th>\n",
       "      <th></th>\n",
       "      <th></th>\n",
       "    </tr>\n",
       "  </thead>\n",
       "  <tbody>\n",
       "    <tr>\n",
       "      <th>1998-01-02</th>\n",
       "      <td>975.039978</td>\n",
       "      <td>975.039978</td>\n",
       "      <td>965.729980</td>\n",
       "      <td>970.429993</td>\n",
       "      <td>366730000</td>\n",
       "    </tr>\n",
       "    <tr>\n",
       "      <th>1998-01-05</th>\n",
       "      <td>977.070007</td>\n",
       "      <td>982.630005</td>\n",
       "      <td>969.000000</td>\n",
       "      <td>975.039978</td>\n",
       "      <td>628070000</td>\n",
       "    </tr>\n",
       "    <tr>\n",
       "      <th>1998-01-06</th>\n",
       "      <td>966.580017</td>\n",
       "      <td>977.070007</td>\n",
       "      <td>962.679993</td>\n",
       "      <td>977.070007</td>\n",
       "      <td>618360000</td>\n",
       "    </tr>\n",
       "    <tr>\n",
       "      <th>1998-01-07</th>\n",
       "      <td>964.000000</td>\n",
       "      <td>966.580017</td>\n",
       "      <td>952.669983</td>\n",
       "      <td>966.580017</td>\n",
       "      <td>667390000</td>\n",
       "    </tr>\n",
       "    <tr>\n",
       "      <th>1998-01-08</th>\n",
       "      <td>956.049988</td>\n",
       "      <td>964.000000</td>\n",
       "      <td>955.039978</td>\n",
       "      <td>964.000000</td>\n",
       "      <td>652140000</td>\n",
       "    </tr>\n",
       "  </tbody>\n",
       "</table>\n",
       "</div>"
      ],
      "text/plain": [
       "Price            Close        High         Low        Open     Volume\n",
       "Ticker           ^GSPC       ^GSPC       ^GSPC       ^GSPC      ^GSPC\n",
       "Date                                                                 \n",
       "1998-01-02  975.039978  975.039978  965.729980  970.429993  366730000\n",
       "1998-01-05  977.070007  982.630005  969.000000  975.039978  628070000\n",
       "1998-01-06  966.580017  977.070007  962.679993  977.070007  618360000\n",
       "1998-01-07  964.000000  966.580017  952.669983  966.580017  667390000\n",
       "1998-01-08  956.049988  964.000000  955.039978  964.000000  652140000"
      ]
     },
     "execution_count": 89,
     "metadata": {},
     "output_type": "execute_result"
    }
   ],
   "source": [
    "df.head()"
   ]
  },
  {
   "cell_type": "code",
   "execution_count": 92,
   "id": "4d0274cf",
   "metadata": {},
   "outputs": [
    {
     "data": {
      "text/html": [
       "<div>\n",
       "<style scoped>\n",
       "    .dataframe tbody tr th:only-of-type {\n",
       "        vertical-align: middle;\n",
       "    }\n",
       "\n",
       "    .dataframe tbody tr th {\n",
       "        vertical-align: top;\n",
       "    }\n",
       "\n",
       "    .dataframe thead th {\n",
       "        text-align: right;\n",
       "    }\n",
       "</style>\n",
       "<table border=\"1\" class=\"dataframe\">\n",
       "  <thead>\n",
       "    <tr style=\"text-align: right;\">\n",
       "      <th></th>\n",
       "      <th>close</th>\n",
       "      <th>high</th>\n",
       "      <th>low</th>\n",
       "      <th>open</th>\n",
       "      <th>volume</th>\n",
       "    </tr>\n",
       "    <tr>\n",
       "      <th>Date</th>\n",
       "      <th></th>\n",
       "      <th></th>\n",
       "      <th></th>\n",
       "      <th></th>\n",
       "      <th></th>\n",
       "    </tr>\n",
       "  </thead>\n",
       "  <tbody>\n",
       "    <tr>\n",
       "      <th>2025-06-13</th>\n",
       "      <td>5976.970215</td>\n",
       "      <td>6026.160156</td>\n",
       "      <td>5963.209961</td>\n",
       "      <td>6000.560059</td>\n",
       "      <td>5258910000</td>\n",
       "    </tr>\n",
       "    <tr>\n",
       "      <th>2025-06-16</th>\n",
       "      <td>6033.109863</td>\n",
       "      <td>6050.830078</td>\n",
       "      <td>6004.000000</td>\n",
       "      <td>6004.000000</td>\n",
       "      <td>5111710000</td>\n",
       "    </tr>\n",
       "    <tr>\n",
       "      <th>2025-06-17</th>\n",
       "      <td>5982.720215</td>\n",
       "      <td>6023.250000</td>\n",
       "      <td>5974.799805</td>\n",
       "      <td>6012.149902</td>\n",
       "      <td>4955700000</td>\n",
       "    </tr>\n",
       "    <tr>\n",
       "      <th>2025-06-18</th>\n",
       "      <td>5980.870117</td>\n",
       "      <td>6018.250000</td>\n",
       "      <td>5971.890137</td>\n",
       "      <td>5987.930176</td>\n",
       "      <td>5106470000</td>\n",
       "    </tr>\n",
       "    <tr>\n",
       "      <th>2025-06-20</th>\n",
       "      <td>5960.609863</td>\n",
       "      <td>6018.200195</td>\n",
       "      <td>5952.560059</td>\n",
       "      <td>5999.669922</td>\n",
       "      <td>2185291000</td>\n",
       "    </tr>\n",
       "  </tbody>\n",
       "</table>\n",
       "</div>"
      ],
      "text/plain": [
       "                  close         high          low         open      volume\n",
       "Date                                                                      \n",
       "2025-06-13  5976.970215  6026.160156  5963.209961  6000.560059  5258910000\n",
       "2025-06-16  6033.109863  6050.830078  6004.000000  6004.000000  5111710000\n",
       "2025-06-17  5982.720215  6023.250000  5974.799805  6012.149902  4955700000\n",
       "2025-06-18  5980.870117  6018.250000  5971.890137  5987.930176  5106470000\n",
       "2025-06-20  5960.609863  6018.200195  5952.560059  5999.669922  2185291000"
      ]
     },
     "execution_count": 92,
     "metadata": {},
     "output_type": "execute_result"
    }
   ],
   "source": [
    "df.tail()"
   ]
  },
  {
   "cell_type": "code",
   "execution_count": 94,
   "id": "5c50441e",
   "metadata": {},
   "outputs": [],
   "source": [
    "# Fix for MultiIndex columns (flatten the column structure)\n",
    "if isinstance(df.columns, pd.MultiIndex):\n",
    "    df.columns = [col[0] for col in df.columns]         # Take 1st level of MultiIndex\n",
    "\n",
    "# Convert to lowercase\n",
    "df.columns = df.columns.str.lower()"
   ]
  },
  {
   "cell_type": "code",
   "execution_count": 95,
   "id": "b44b0a93",
   "metadata": {},
   "outputs": [
    {
     "data": {
      "text/html": [
       "<div>\n",
       "<style scoped>\n",
       "    .dataframe tbody tr th:only-of-type {\n",
       "        vertical-align: middle;\n",
       "    }\n",
       "\n",
       "    .dataframe tbody tr th {\n",
       "        vertical-align: top;\n",
       "    }\n",
       "\n",
       "    .dataframe thead th {\n",
       "        text-align: right;\n",
       "    }\n",
       "</style>\n",
       "<table border=\"1\" class=\"dataframe\">\n",
       "  <thead>\n",
       "    <tr style=\"text-align: right;\">\n",
       "      <th></th>\n",
       "      <th>close</th>\n",
       "      <th>high</th>\n",
       "      <th>low</th>\n",
       "      <th>open</th>\n",
       "      <th>volume</th>\n",
       "    </tr>\n",
       "    <tr>\n",
       "      <th>Date</th>\n",
       "      <th></th>\n",
       "      <th></th>\n",
       "      <th></th>\n",
       "      <th></th>\n",
       "      <th></th>\n",
       "    </tr>\n",
       "  </thead>\n",
       "  <tbody>\n",
       "    <tr>\n",
       "      <th>1998-01-02</th>\n",
       "      <td>975.039978</td>\n",
       "      <td>975.039978</td>\n",
       "      <td>965.729980</td>\n",
       "      <td>970.429993</td>\n",
       "      <td>366730000</td>\n",
       "    </tr>\n",
       "    <tr>\n",
       "      <th>1998-01-05</th>\n",
       "      <td>977.070007</td>\n",
       "      <td>982.630005</td>\n",
       "      <td>969.000000</td>\n",
       "      <td>975.039978</td>\n",
       "      <td>628070000</td>\n",
       "    </tr>\n",
       "    <tr>\n",
       "      <th>1998-01-06</th>\n",
       "      <td>966.580017</td>\n",
       "      <td>977.070007</td>\n",
       "      <td>962.679993</td>\n",
       "      <td>977.070007</td>\n",
       "      <td>618360000</td>\n",
       "    </tr>\n",
       "    <tr>\n",
       "      <th>1998-01-07</th>\n",
       "      <td>964.000000</td>\n",
       "      <td>966.580017</td>\n",
       "      <td>952.669983</td>\n",
       "      <td>966.580017</td>\n",
       "      <td>667390000</td>\n",
       "    </tr>\n",
       "    <tr>\n",
       "      <th>1998-01-08</th>\n",
       "      <td>956.049988</td>\n",
       "      <td>964.000000</td>\n",
       "      <td>955.039978</td>\n",
       "      <td>964.000000</td>\n",
       "      <td>652140000</td>\n",
       "    </tr>\n",
       "  </tbody>\n",
       "</table>\n",
       "</div>"
      ],
      "text/plain": [
       "                 close        high         low        open     volume\n",
       "Date                                                                 \n",
       "1998-01-02  975.039978  975.039978  965.729980  970.429993  366730000\n",
       "1998-01-05  977.070007  982.630005  969.000000  975.039978  628070000\n",
       "1998-01-06  966.580017  977.070007  962.679993  977.070007  618360000\n",
       "1998-01-07  964.000000  966.580017  952.669983  966.580017  667390000\n",
       "1998-01-08  956.049988  964.000000  955.039978  964.000000  652140000"
      ]
     },
     "execution_count": 95,
     "metadata": {},
     "output_type": "execute_result"
    }
   ],
   "source": [
    "df.head()"
   ]
  },
  {
   "cell_type": "code",
   "execution_count": 96,
   "id": "9193bb83",
   "metadata": {},
   "outputs": [],
   "source": [
    "# Stock price prediction using 'Close' column\n",
    "df1 = df.reset_index()['close']"
   ]
  },
  {
   "cell_type": "code",
   "execution_count": 97,
   "id": "20e853cd",
   "metadata": {},
   "outputs": [
    {
     "data": {
      "text/plain": [
       "(6909,)"
      ]
     },
     "execution_count": 97,
     "metadata": {},
     "output_type": "execute_result"
    }
   ],
   "source": [
    "df1.shape"
   ]
  },
  {
   "cell_type": "code",
   "execution_count": 98,
   "id": "143d9cd4",
   "metadata": {},
   "outputs": [
    {
     "data": {
      "text/plain": [
       "[<matplotlib.lines.Line2D at 0x308f52cd0>]"
      ]
     },
     "execution_count": 98,
     "metadata": {},
     "output_type": "execute_result"
    },
    {
     "data": {
      "image/png": "[encoded data removed]",
      "text/plain": [
       "<Figure size 640x480 with 1 Axes>"
      ]
     },
     "metadata": {},
     "output_type": "display_data"
    }
   ],
   "source": [
    "# Plot historic stock price\n",
    "import matplotlib.pyplot as plt\n",
    "\n",
    "plt.plot(df1)"
   ]
  },
  {
   "cell_type": "code",
   "execution_count": 99,
   "id": "df213901",
   "metadata": {},
   "outputs": [],
   "source": [
    "# LSTM are sensitive to scale of data, so we appply MinMax Scalar\n",
    "from sklearn.preprocessing import MinMaxScaler \n",
    "\n",
    "# Scale down to (0, 1)\n",
    "scaler = MinMaxScaler(feature_range = (0, 1))\n",
    "\n",
    "df1 = scaler.fit_transform(np.array(df1).reshape(-1, 1))"
   ]
  },
  {
   "cell_type": "code",
   "execution_count": 100,
   "id": "322e3b01",
   "metadata": {},
   "outputs": [
    {
     "data": {
      "text/plain": [
       "(6909, 1)"
      ]
     },
     "execution_count": 100,
     "metadata": {},
     "output_type": "execute_result"
    }
   ],
   "source": [
    "df1.shape"
   ]
  },
  {
   "cell_type": "code",
   "execution_count": 101,
   "id": "63b04332",
   "metadata": {},
   "outputs": [
    {
     "name": "stdout",
     "output_type": "stream",
     "text": [
      "[[0.05459596]\n",
      " [0.05496724]\n",
      " [0.05304867]\n",
      " ...\n",
      " [0.97047533]\n",
      " [0.97013695]\n",
      " [0.96643146]]\n"
     ]
    }
   ],
   "source": [
    "print(df1)"
   ]
  },
  {
   "cell_type": "code",
   "execution_count": 102,
   "id": "b31ae3a2",
   "metadata": {},
   "outputs": [],
   "source": [
    "# Splitting dataset into train and test split\n",
    "training_size = int(len(df1) * 0.80)                # 80% of dataset goes for training \n",
    "\n",
    "test_size = len(df1) - training_size            # Remaining dataset goes for testing\n",
    "\n",
    "train_data, test_data = df1[0 : training_size, :], df1[training_size : len(df1), : 1]"
   ]
  },
  {
   "cell_type": "code",
   "execution_count": 103,
   "id": "d92432b9",
   "metadata": {},
   "outputs": [
    {
     "data": {
      "text/plain": [
       "(5527, 1382)"
      ]
     },
     "execution_count": 103,
     "metadata": {},
     "output_type": "execute_result"
    }
   ],
   "source": [
    "training_size, test_size"
   ]
  },
  {
   "cell_type": "code",
   "execution_count": 104,
   "id": "293bdd3f",
   "metadata": {},
   "outputs": [
    {
     "data": {
      "text/plain": [
       "(5527, 1382)"
      ]
     },
     "execution_count": 104,
     "metadata": {},
     "output_type": "execute_result"
    }
   ],
   "source": [
    "len(train_data), len(test_data)"
   ]
  },
  {
   "cell_type": "code",
   "execution_count": 105,
   "id": "f8dd10f0",
   "metadata": {},
   "outputs": [
    {
     "data": {
      "text/plain": [
       "array([[0.05459596],\n",
       "       [0.05496724],\n",
       "       [0.05304867],\n",
       "       ...,\n",
       "       [0.45996612],\n",
       "       [0.46016183],\n",
       "       [0.45990942]], shape=(5527, 1))"
      ]
     },
     "execution_count": 105,
     "metadata": {},
     "output_type": "execute_result"
    }
   ],
   "source": [
    "train_data"
   ]
  },
  {
   "cell_type": "markdown",
   "id": "be889a39",
   "metadata": {},
   "source": [
    "# Data Preprocessing "
   ]
  },
  {
   "cell_type": "code",
   "execution_count": 106,
   "id": "cb1d8ddc",
   "metadata": {},
   "outputs": [],
   "source": [
    "# Convert an array of values into a dataset matrix \n",
    "def create_dataset(dataset, time_step = 1):\n",
    "    dataX, dataY = [], []\n",
    "\n",
    "    for i in range(len(dataset) - time_step - 1):\n",
    "        a = dataset[i : (i+ time_step), 0]          # i = 0, 1, 2, 3, ...\n",
    "        dataX.append(a)\n",
    "        dataY.append(dataset[i + time_step, 0])\n",
    "\n",
    "    return np.array(dataX), np.array(dataY)\n",
    "    "
   ]
  },
  {
   "cell_type": "code",
   "execution_count": 107,
   "id": "0833c05f",
   "metadata": {},
   "outputs": [
    {
     "name": "stdout",
     "output_type": "stream",
     "text": [
      "Train data length: 5527, Test data length: 1382\n",
      "Using time_step: 30\n"
     ]
    }
   ],
   "source": [
    "print(f\"Train data length: {len(train_data)}, Test data length: {len(test_data)}\")\n",
    "\n",
    "time_step = min(30, len(test_data) // 4)  # Conservative approach\n",
    "\n",
    "print(f\"Using time_step: {time_step}\")"
   ]
  },
  {
   "cell_type": "code",
   "execution_count": 108,
   "id": "c0d53784",
   "metadata": {},
   "outputs": [],
   "source": [
    "# Reshape into X = t, t+1, t+2, t+3 and Y = t+4\n",
    "time_step = 60\n",
    "\n",
    "X_train, y_train = create_dataset(train_data, time_step)\n",
    "X_test, y_test = create_dataset(test_data, time_step)"
   ]
  },
  {
   "cell_type": "code",
   "execution_count": 109,
   "id": "c8333ad7",
   "metadata": {},
   "outputs": [
    {
     "name": "stdout",
     "output_type": "stream",
     "text": [
      "[[0.05459596 0.05496724 0.05304867 ... 0.07759684 0.0766165  0.07627998]\n",
      " [0.05496724 0.05304867 0.0525768  ... 0.0766165  0.07627998 0.07777058]\n",
      " [0.05304867 0.0525768  0.05112279 ... 0.07627998 0.07777058 0.07894111]\n",
      " ...\n",
      " [0.42619276 0.42350055 0.42344751 ... 0.44918814 0.45085429 0.45578151]\n",
      " [0.42350055 0.42344751 0.41884222 ... 0.45085429 0.45578151 0.45582357]\n",
      " [0.42344751 0.41884222 0.42218372 ... 0.45578151 0.45582357 0.45996612]]\n"
     ]
    }
   ],
   "source": [
    "print(X_train)"
   ]
  },
  {
   "cell_type": "code",
   "execution_count": 110,
   "id": "14f3ec9c",
   "metadata": {},
   "outputs": [
    {
     "name": "stdout",
     "output_type": "stream",
     "text": [
      "(5466, 60)\n",
      "(5466,)\n"
     ]
    },
    {
     "data": {
      "text/plain": [
       "(None, None)"
      ]
     },
     "execution_count": 110,
     "metadata": {},
     "output_type": "execute_result"
    }
   ],
   "source": [
    "print(X_train.shape), print(y_train.shape)"
   ]
  },
  {
   "cell_type": "code",
   "execution_count": 111,
   "id": "64fddb74",
   "metadata": {},
   "outputs": [
    {
     "name": "stdout",
     "output_type": "stream",
     "text": [
      "(1321, 60)\n",
      "(1321,)\n"
     ]
    },
    {
     "data": {
      "text/plain": [
       "(None, None)"
      ]
     },
     "execution_count": 111,
     "metadata": {},
     "output_type": "execute_result"
    }
   ],
   "source": [
    "print(X_test.shape), print(y_test.shape)"
   ]
  },
  {
   "cell_type": "code",
   "execution_count": 112,
   "id": "4f9e9e07",
   "metadata": {},
   "outputs": [],
   "source": [
    "# Reshape I/P to be [samples, time steps, features] which is req for LSTM\n",
    "X_train = X_train.reshape(X_train.shape[0], X_train.shape[1], 1)\n",
    "\n",
    "X_test = X_test.reshape(X_test.shape[0], X_test.shape[1], 1)\n"
   ]
  },
  {
   "cell_type": "markdown",
   "id": "96661763",
   "metadata": {},
   "source": [
    "## Create Stacked LSTM model"
   ]
  },
  {
   "cell_type": "code",
   "execution_count": 113,
   "id": "2307f25b",
   "metadata": {},
   "outputs": [],
   "source": [
    "from tensorflow.keras.models import Sequential\n",
    "from tensorflow.keras.layers import Dense\n",
    "from tensorflow.keras.layers import LSTM\n",
    "from tensorflow.keras.layers import Input   \n",
    "from tensorflow.keras.layers import Dropout         # For better generalisation"
   ]
  },
  {
   "cell_type": "code",
   "execution_count": 114,
   "id": "a058e78f",
   "metadata": {},
   "outputs": [],
   "source": [
    "model = Sequential([\n",
    "    Input(shape=(60, 1)),           # time_step = 60\n",
    "    LSTM(50, return_sequences=True),\n",
    "    Dropout(0.2),\n",
    "    LSTM(50, return_sequences=True),\n",
    "    Dropout(0.2),\n",
    "    LSTM(50),\n",
    "    Dropout(0.2),\n",
    "    Dense(1)\n",
    "])"
   ]
  },
  {
   "cell_type": "code",
   "execution_count": 115,
   "id": "6e5dcf1f",
   "metadata": {},
   "outputs": [],
   "source": [
    "model.compile(\n",
    "    loss = 'mean_squared_error', \n",
    "    optimizer = 'adam',\n",
    "    metrics=['mae', 'mse', 'mape']\n",
    ")"
   ]
  },
  {
   "cell_type": "code",
   "execution_count": 116,
   "id": "eea6885b",
   "metadata": {},
   "outputs": [
    {
     "data": {
      "text/html": [
       "<pre style=\"white-space:pre;overflow-x:auto;line-height:normal;font-family:Menlo,'DejaVu Sans Mono',consolas,'Courier New',monospace\"><span style=\"font-weight: bold\">Model: \"sequential_2\"</span>\n",
       "</pre>\n"
      ],
      "text/plain": [
       "\u001b[1mModel: \"sequential_2\"\u001b[0m\n"
      ]
     },
     "metadata": {},
     "output_type": "display_data"
    },
    {
     "data": {
      "text/html": [
       "<pre style=\"white-space:pre;overflow-x:auto;line-height:normal;font-family:Menlo,'DejaVu Sans Mono',consolas,'Courier New',monospace\">┏━━━━━━━━━━━━━━━━━━━━━━━━━━━━━━━━━┳━━━━━━━━━━━━━━━━━━━━━━━━┳━━━━━━━━━━━━━━━┓\n",
       "┃<span style=\"font-weight: bold\"> Layer (type)                    </span>┃<span style=\"font-weight: bold\"> Output Shape           </span>┃<span style=\"font-weight: bold\">       Param # </span>┃\n",
       "┡━━━━━━━━━━━━━━━━━━━━━━━━━━━━━━━━━╇━━━━━━━━━━━━━━━━━━━━━━━━╇━━━━━━━━━━━━━━━┩\n",
       "│ lstm_9 (<span style=\"color: #0087ff; text-decoration-color: #0087ff\">LSTM</span>)                   │ (<span style=\"color: #00d7ff; text-decoration-color: #00d7ff\">None</span>, <span style=\"color: #00af00; text-decoration-color: #00af00\">60</span>, <span style=\"color: #00af00; text-decoration-color: #00af00\">50</span>)         │        <span style=\"color: #00af00; text-decoration-color: #00af00\">10,400</span> │\n",
       "├─────────────────────────────────┼────────────────────────┼───────────────┤\n",
       "│ dropout (<span style=\"color: #0087ff; text-decoration-color: #0087ff\">Dropout</span>)               │ (<span style=\"color: #00d7ff; text-decoration-color: #00d7ff\">None</span>, <span style=\"color: #00af00; text-decoration-color: #00af00\">60</span>, <span style=\"color: #00af00; text-decoration-color: #00af00\">50</span>)         │             <span style=\"color: #00af00; text-decoration-color: #00af00\">0</span> │\n",
       "├─────────────────────────────────┼────────────────────────┼───────────────┤\n",
       "│ lstm_10 (<span style=\"color: #0087ff; text-decoration-color: #0087ff\">LSTM</span>)                  │ (<span style=\"color: #00d7ff; text-decoration-color: #00d7ff\">None</span>, <span style=\"color: #00af00; text-decoration-color: #00af00\">60</span>, <span style=\"color: #00af00; text-decoration-color: #00af00\">50</span>)         │        <span style=\"color: #00af00; text-decoration-color: #00af00\">20,200</span> │\n",
       "├─────────────────────────────────┼────────────────────────┼───────────────┤\n",
       "│ dropout_1 (<span style=\"color: #0087ff; text-decoration-color: #0087ff\">Dropout</span>)             │ (<span style=\"color: #00d7ff; text-decoration-color: #00d7ff\">None</span>, <span style=\"color: #00af00; text-decoration-color: #00af00\">60</span>, <span style=\"color: #00af00; text-decoration-color: #00af00\">50</span>)         │             <span style=\"color: #00af00; text-decoration-color: #00af00\">0</span> │\n",
       "├─────────────────────────────────┼────────────────────────┼───────────────┤\n",
       "│ lstm_11 (<span style=\"color: #0087ff; text-decoration-color: #0087ff\">LSTM</span>)                  │ (<span style=\"color: #00d7ff; text-decoration-color: #00d7ff\">None</span>, <span style=\"color: #00af00; text-decoration-color: #00af00\">50</span>)             │        <span style=\"color: #00af00; text-decoration-color: #00af00\">20,200</span> │\n",
       "├─────────────────────────────────┼────────────────────────┼───────────────┤\n",
       "│ dropout_2 (<span style=\"color: #0087ff; text-decoration-color: #0087ff\">Dropout</span>)             │ (<span style=\"color: #00d7ff; text-decoration-color: #00d7ff\">None</span>, <span style=\"color: #00af00; text-decoration-color: #00af00\">50</span>)             │             <span style=\"color: #00af00; text-decoration-color: #00af00\">0</span> │\n",
       "├─────────────────────────────────┼────────────────────────┼───────────────┤\n",
       "│ dense_3 (<span style=\"color: #0087ff; text-decoration-color: #0087ff\">Dense</span>)                 │ (<span style=\"color: #00d7ff; text-decoration-color: #00d7ff\">None</span>, <span style=\"color: #00af00; text-decoration-color: #00af00\">1</span>)              │            <span style=\"color: #00af00; text-decoration-color: #00af00\">51</span> │\n",
       "└─────────────────────────────────┴────────────────────────┴───────────────┘\n",
       "</pre>\n"
      ],
      "text/plain": [
       "┏━━━━━━━━━━━━━━━━━━━━━━━━━━━━━━━━━┳━━━━━━━━━━━━━━━━━━━━━━━━┳━━━━━━━━━━━━━━━┓\n",
       "┃\u001b[1m \u001b[0m\u001b[1mLayer (type)                   \u001b[0m\u001b[1m \u001b[0m┃\u001b[1m \u001b[0m\u001b[1mOutput Shape          \u001b[0m\u001b[1m \u001b[0m┃\u001b[1m \u001b[0m\u001b[1m      Param #\u001b[0m\u001b[1m \u001b[0m┃\n",
       "┡━━━━━━━━━━━━━━━━━━━━━━━━━━━━━━━━━╇━━━━━━━━━━━━━━━━━━━━━━━━╇━━━━━━━━━━━━━━━┩\n",
       "│ lstm_9 (\u001b[38;5;33mLSTM\u001b[0m)                   │ (\u001b[38;5;45mNone\u001b[0m, \u001b[38;5;34m60\u001b[0m, \u001b[38;5;34m50\u001b[0m)         │        \u001b[38;5;34m10,400\u001b[0m │\n",
       "├─────────────────────────────────┼────────────────────────┼───────────────┤\n",
       "│ dropout (\u001b[38;5;33mDropout\u001b[0m)               │ (\u001b[38;5;45mNone\u001b[0m, \u001b[38;5;34m60\u001b[0m, \u001b[38;5;34m50\u001b[0m)         │             \u001b[38;5;34m0\u001b[0m │\n",
       "├─────────────────────────────────┼────────────────────────┼───────────────┤\n",
       "│ lstm_10 (\u001b[38;5;33mLSTM\u001b[0m)                  │ (\u001b[38;5;45mNone\u001b[0m, \u001b[38;5;34m60\u001b[0m, \u001b[38;5;34m50\u001b[0m)         │        \u001b[38;5;34m20,200\u001b[0m │\n",
       "├─────────────────────────────────┼────────────────────────┼───────────────┤\n",
       "│ dropout_1 (\u001b[38;5;33mDropout\u001b[0m)             │ (\u001b[38;5;45mNone\u001b[0m, \u001b[38;5;34m60\u001b[0m, \u001b[38;5;34m50\u001b[0m)         │             \u001b[38;5;34m0\u001b[0m │\n",
       "├─────────────────────────────────┼────────────────────────┼───────────────┤\n",
       "│ lstm_11 (\u001b[38;5;33mLSTM\u001b[0m)                  │ (\u001b[38;5;45mNone\u001b[0m, \u001b[38;5;34m50\u001b[0m)             │        \u001b[38;5;34m20,200\u001b[0m │\n",
       "├─────────────────────────────────┼────────────────────────┼───────────────┤\n",
       "│ dropout_2 (\u001b[38;5;33mDropout\u001b[0m)             │ (\u001b[38;5;45mNone\u001b[0m, \u001b[38;5;34m50\u001b[0m)             │             \u001b[38;5;34m0\u001b[0m │\n",
       "├─────────────────────────────────┼────────────────────────┼───────────────┤\n",
       "│ dense_3 (\u001b[38;5;33mDense\u001b[0m)                 │ (\u001b[38;5;45mNone\u001b[0m, \u001b[38;5;34m1\u001b[0m)              │            \u001b[38;5;34m51\u001b[0m │\n",
       "└─────────────────────────────────┴────────────────────────┴───────────────┘\n"
      ]
     },
     "metadata": {},
     "output_type": "display_data"
    },
    {
     "data": {
      "text/html": [
       "<pre style=\"white-space:pre;overflow-x:auto;line-height:normal;font-family:Menlo,'DejaVu Sans Mono',consolas,'Courier New',monospace\"><span style=\"font-weight: bold\"> Total params: </span><span style=\"color: #00af00; text-decoration-color: #00af00\">50,851</span> (198.64 KB)\n",
       "</pre>\n"
      ],
      "text/plain": [
       "\u001b[1m Total params: \u001b[0m\u001b[38;5;34m50,851\u001b[0m (198.64 KB)\n"
      ]
     },
     "metadata": {},
     "output_type": "display_data"
    },
    {
     "data": {
      "text/html": [
       "<pre style=\"white-space:pre;overflow-x:auto;line-height:normal;font-family:Menlo,'DejaVu Sans Mono',consolas,'Courier New',monospace\"><span style=\"font-weight: bold\"> Trainable params: </span><span style=\"color: #00af00; text-decoration-color: #00af00\">50,851</span> (198.64 KB)\n",
       "</pre>\n"
      ],
      "text/plain": [
       "\u001b[1m Trainable params: \u001b[0m\u001b[38;5;34m50,851\u001b[0m (198.64 KB)\n"
      ]
     },
     "metadata": {},
     "output_type": "display_data"
    },
    {
     "data": {
      "text/html": [
       "<pre style=\"white-space:pre;overflow-x:auto;line-height:normal;font-family:Menlo,'DejaVu Sans Mono',consolas,'Courier New',monospace\"><span style=\"font-weight: bold\"> Non-trainable params: </span><span style=\"color: #00af00; text-decoration-color: #00af00\">0</span> (0.00 B)\n",
       "</pre>\n"
      ],
      "text/plain": [
       "\u001b[1m Non-trainable params: \u001b[0m\u001b[38;5;34m0\u001b[0m (0.00 B)\n"
      ]
     },
     "metadata": {},
     "output_type": "display_data"
    }
   ],
   "source": [
    "model.summary()"
   ]
  },
  {
   "cell_type": "code",
   "execution_count": 117,
   "id": "ebdd90c0",
   "metadata": {},
   "outputs": [
    {
     "name": "stdout",
     "output_type": "stream",
     "text": [
      "Epoch 1/50\n",
      "\u001b[1m86/86\u001b[0m \u001b[32m━━━━━━━━━━━━━━━━━━━━\u001b[0m\u001b[37m\u001b[0m \u001b[1m6s\u001b[0m 53ms/step - loss: 0.0050 - mae: 0.0452 - mape: 18221.2285 - mse: 0.0050 - val_loss: 6.8808e-04 - val_mae: 0.0197 - val_mape: 3.0291 - val_mse: 6.8808e-04 - learning_rate: 0.0010\n",
      "Epoch 2/50\n",
      "\u001b[1m86/86\u001b[0m \u001b[32m━━━━━━━━━━━━━━━━━━━━\u001b[0m\u001b[37m\u001b[0m \u001b[1m4s\u001b[0m 47ms/step - loss: 3.8135e-04 - mae: 0.0136 - mape: 23203.3496 - mse: 3.8135e-04 - val_loss: 9.5249e-04 - val_mae: 0.0241 - val_mape: 3.4669 - val_mse: 9.5249e-04 - learning_rate: 0.0010\n",
      "Epoch 3/50\n",
      "\u001b[1m86/86\u001b[0m \u001b[32m━━━━━━━━━━━━━━━━━━━━\u001b[0m\u001b[37m\u001b[0m \u001b[1m4s\u001b[0m 49ms/step - loss: 3.1847e-04 - mae: 0.0125 - mape: 1078.4202 - mse: 3.1847e-04 - val_loss: 0.0038 - val_mae: 0.0536 - val_mape: 7.5094 - val_mse: 0.0038 - learning_rate: 0.0010\n",
      "Epoch 4/50\n",
      "\u001b[1m86/86\u001b[0m \u001b[32m━━━━━━━━━━━━━━━━━━━━\u001b[0m\u001b[37m\u001b[0m \u001b[1m5s\u001b[0m 53ms/step - loss: 3.6323e-04 - mae: 0.0131 - mape: 3449.5159 - mse: 3.6323e-04 - val_loss: 0.0017 - val_mae: 0.0326 - val_mape: 4.5104 - val_mse: 0.0017 - learning_rate: 0.0010\n",
      "Epoch 5/50\n",
      "\u001b[1m86/86\u001b[0m \u001b[32m━━━━━━━━━━━━━━━━━━━━\u001b[0m\u001b[37m\u001b[0m \u001b[1m5s\u001b[0m 58ms/step - loss: 2.5857e-04 - mae: 0.0110 - mape: 5398.5332 - mse: 2.5857e-04 - val_loss: 0.0015 - val_mae: 0.0302 - val_mape: 4.2037 - val_mse: 0.0015 - learning_rate: 0.0010\n",
      "Epoch 6/50\n",
      "\u001b[1m86/86\u001b[0m \u001b[32m━━━━━━━━━━━━━━━━━━━━\u001b[0m\u001b[37m\u001b[0m \u001b[1m5s\u001b[0m 57ms/step - loss: 2.5654e-04 - mae: 0.0109 - mape: 1778.8929 - mse: 2.5654e-04 - val_loss: 0.0018 - val_mae: 0.0349 - val_mape: 4.8528 - val_mse: 0.0018 - learning_rate: 0.0010\n",
      "Epoch 7/50\n",
      "\u001b[1m86/86\u001b[0m \u001b[32m━━━━━━━━━━━━━━━━━━━━\u001b[0m\u001b[37m\u001b[0m \u001b[1m5s\u001b[0m 54ms/step - loss: 2.5072e-04 - mae: 0.0112 - mape: 11081.5244 - mse: 2.5072e-04 - val_loss: 0.0029 - val_mae: 0.0462 - val_mape: 6.4227 - val_mse: 0.0029 - learning_rate: 0.0010\n",
      "Epoch 8/50\n",
      "\u001b[1m86/86\u001b[0m \u001b[32m━━━━━━━━━━━━━━━━━━━━\u001b[0m\u001b[37m\u001b[0m \u001b[1m5s\u001b[0m 53ms/step - loss: 2.2463e-04 - mae: 0.0103 - mape: 467.2664 - mse: 2.2463e-04 - val_loss: 6.4465e-04 - val_mae: 0.0189 - val_mape: 2.8924 - val_mse: 6.4465e-04 - learning_rate: 0.0010\n",
      "Epoch 9/50\n",
      "\u001b[1m86/86\u001b[0m \u001b[32m━━━━━━━━━━━━━━━━━━━━\u001b[0m\u001b[37m\u001b[0m \u001b[1m4s\u001b[0m 50ms/step - loss: 2.0136e-04 - mae: 0.0097 - mape: 1456.4662 - mse: 2.0136e-04 - val_loss: 0.0015 - val_mae: 0.0323 - val_mape: 4.5626 - val_mse: 0.0015 - learning_rate: 0.0010\n",
      "Epoch 10/50\n",
      "\u001b[1m86/86\u001b[0m \u001b[32m━━━━━━━━━━━━━━━━━━━━\u001b[0m\u001b[37m\u001b[0m \u001b[1m4s\u001b[0m 50ms/step - loss: 1.9555e-04 - mae: 0.0094 - mape: 5849.4453 - mse: 1.9555e-04 - val_loss: 0.0018 - val_mae: 0.0371 - val_mape: 5.2983 - val_mse: 0.0018 - learning_rate: 0.0010\n",
      "Epoch 11/50\n",
      "\u001b[1m86/86\u001b[0m \u001b[32m━━━━━━━━━━━━━━━━━━━━\u001b[0m\u001b[37m\u001b[0m \u001b[1m4s\u001b[0m 47ms/step - loss: 2.1537e-04 - mae: 0.0102 - mape: 1709.5934 - mse: 2.1537e-04 - val_loss: 7.3322e-04 - val_mae: 0.0208 - val_mape: 3.0008 - val_mse: 7.3322e-04 - learning_rate: 0.0010\n",
      "Epoch 12/50\n",
      "\u001b[1m86/86\u001b[0m \u001b[32m━━━━━━━━━━━━━━━━━━━━\u001b[0m\u001b[37m\u001b[0m \u001b[1m4s\u001b[0m 48ms/step - loss: 1.7640e-04 - mae: 0.0090 - mape: 7962.5776 - mse: 1.7640e-04 - val_loss: 9.9306e-04 - val_mae: 0.0251 - val_mape: 3.5552 - val_mse: 9.9306e-04 - learning_rate: 2.0000e-04\n",
      "Epoch 13/50\n",
      "\u001b[1m86/86\u001b[0m \u001b[32m━━━━━━━━━━━━━━━━━━━━\u001b[0m\u001b[37m\u001b[0m \u001b[1m4s\u001b[0m 48ms/step - loss: 1.7236e-04 - mae: 0.0088 - mape: 1375.2097 - mse: 1.7236e-04 - val_loss: 0.0014 - val_mae: 0.0309 - val_mape: 4.3077 - val_mse: 0.0014 - learning_rate: 2.0000e-04\n",
      "Epoch 14/50\n",
      "\u001b[1m86/86\u001b[0m \u001b[32m━━━━━━━━━━━━━━━━━━━━\u001b[0m\u001b[37m\u001b[0m \u001b[1m4s\u001b[0m 51ms/step - loss: 1.7228e-04 - mae: 0.0089 - mape: 735.7891 - mse: 1.7228e-04 - val_loss: 0.0011 - val_mae: 0.0268 - val_mape: 3.7507 - val_mse: 0.0011 - learning_rate: 2.0000e-04\n",
      "Epoch 15/50\n",
      "\u001b[1m86/86\u001b[0m \u001b[32m━━━━━━━━━━━━━━━━━━━━\u001b[0m\u001b[37m\u001b[0m \u001b[1m4s\u001b[0m 49ms/step - loss: 1.6492e-04 - mae: 0.0087 - mape: 20022.6816 - mse: 1.6492e-04 - val_loss: 0.0012 - val_mae: 0.0283 - val_mape: 3.9853 - val_mse: 0.0012 - learning_rate: 2.0000e-04\n",
      "Epoch 16/50\n",
      "\u001b[1m86/86\u001b[0m \u001b[32m━━━━━━━━━━━━━━━━━━━━\u001b[0m\u001b[37m\u001b[0m \u001b[1m4s\u001b[0m 51ms/step - loss: 1.6627e-04 - mae: 0.0089 - mape: 6878.5713 - mse: 1.6627e-04 - val_loss: 9.6817e-04 - val_mae: 0.0244 - val_mape: 3.4288 - val_mse: 9.6817e-04 - learning_rate: 2.0000e-04\n",
      "Epoch 17/50\n",
      "\u001b[1m86/86\u001b[0m \u001b[32m━━━━━━━━━━━━━━━━━━━━\u001b[0m\u001b[37m\u001b[0m \u001b[1m4s\u001b[0m 47ms/step - loss: 1.5437e-04 - mae: 0.0084 - mape: 2029.0543 - mse: 1.5437e-04 - val_loss: 0.0011 - val_mae: 0.0270 - val_mape: 3.7842 - val_mse: 0.0011 - learning_rate: 2.0000e-04\n",
      "Epoch 18/50\n",
      "\u001b[1m86/86\u001b[0m \u001b[32m━━━━━━━━━━━━━━━━━━━━\u001b[0m\u001b[37m\u001b[0m \u001b[1m4s\u001b[0m 48ms/step - loss: 1.6840e-04 - mae: 0.0086 - mape: 1016.3885 - mse: 1.6840e-04 - val_loss: 9.3918e-04 - val_mae: 0.0242 - val_mape: 3.4165 - val_mse: 9.3918e-04 - learning_rate: 2.0000e-04\n",
      "Epoch 19/50\n",
      "\u001b[1m86/86\u001b[0m \u001b[32m━━━━━━━━━━━━━━━━━━━━\u001b[0m\u001b[37m\u001b[0m \u001b[1m4s\u001b[0m 47ms/step - loss: 1.5044e-04 - mae: 0.0085 - mape: 2085.3904 - mse: 1.5044e-04 - val_loss: 7.6727e-04 - val_mae: 0.0215 - val_mape: 3.0668 - val_mse: 7.6727e-04 - learning_rate: 2.0000e-04\n",
      "Epoch 20/50\n",
      "\u001b[1m86/86\u001b[0m \u001b[32m━━━━━━━━━━━━━━━━━━━━\u001b[0m\u001b[37m\u001b[0m \u001b[1m4s\u001b[0m 48ms/step - loss: 1.6202e-04 - mae: 0.0087 - mape: 1619.3368 - mse: 1.6202e-04 - val_loss: 0.0011 - val_mae: 0.0269 - val_mape: 3.7913 - val_mse: 0.0011 - learning_rate: 2.0000e-04\n",
      "Epoch 21/50\n",
      "\u001b[1m86/86\u001b[0m \u001b[32m━━━━━━━━━━━━━━━━━━━━\u001b[0m\u001b[37m\u001b[0m \u001b[1m4s\u001b[0m 45ms/step - loss: 1.5620e-04 - mae: 0.0083 - mape: 788.8049 - mse: 1.5620e-04 - val_loss: 0.0010 - val_mae: 0.0260 - val_mape: 3.6574 - val_mse: 0.0010 - learning_rate: 2.0000e-04\n",
      "Epoch 22/50\n",
      "\u001b[1m86/86\u001b[0m \u001b[32m━━━━━━━━━━━━━━━━━━━━\u001b[0m\u001b[37m\u001b[0m \u001b[1m5s\u001b[0m 59ms/step - loss: 1.5311e-04 - mae: 0.0083 - mape: 962.2499 - mse: 1.5311e-04 - val_loss: 0.0012 - val_mae: 0.0281 - val_mape: 3.9472 - val_mse: 0.0012 - learning_rate: 1.0000e-04\n",
      "Epoch 23/50\n",
      "\u001b[1m86/86\u001b[0m \u001b[32m━━━━━━━━━━━━━━━━━━━━\u001b[0m\u001b[37m\u001b[0m \u001b[1m4s\u001b[0m 48ms/step - loss: 1.4974e-04 - mae: 0.0082 - mape: 3818.5408 - mse: 1.4974e-04 - val_loss: 0.0014 - val_mae: 0.0305 - val_mape: 4.2602 - val_mse: 0.0014 - learning_rate: 1.0000e-04\n"
     ]
    }
   ],
   "source": [
    "from tensorflow.keras.callbacks import EarlyStopping, ModelCheckpoint, ReduceLROnPlateau\n",
    "\n",
    "# Define callbacks\n",
    "early_stopping = EarlyStopping(\n",
    "    monitor = 'val_loss',\n",
    "    patience = 15,                       # Wait for 15 epochs without improvement\n",
    "    restore_best_weights = True          # Load the BEST model weights\n",
    ")       \n",
    "\n",
    "model_checkpoint = ModelCheckpoint(\n",
    "    'best_model.keras',\n",
    "    monitor = 'val_loss',\n",
    "    save_best_only = True,\n",
    "    save_weights_only = False\n",
    ")\n",
    "\n",
    "reduce_lr = ReduceLROnPlateau(\n",
    "    monitor = 'val_loss',\n",
    "    factor = 0.2,\n",
    "    patience = 10,\n",
    "    min_lr = 0.0001\n",
    ")\n",
    "\n",
    "# Enhanced training\n",
    "history = model.fit(\n",
    "    X_train, y_train, \n",
    "    validation_data = (X_test, y_test), \n",
    "    epochs = 50, \n",
    "    batch_size = 64, \n",
    "    verbose = 1,\n",
    "    callbacks = [early_stopping, model_checkpoint, reduce_lr]\n",
    ")"
   ]
  },
  {
   "cell_type": "code",
   "execution_count": 120,
   "id": "70b55287",
   "metadata": {},
   "outputs": [
    {
     "data": {
      "image/png": "[encoded data removed]",
      "text/plain": [
       "<Figure size 1200x400 with 2 Axes>"
      ]
     },
     "metadata": {},
     "output_type": "display_data"
    }
   ],
   "source": [
    "plt.figure(figsize=(12, 4))\n",
    "\n",
    "# Plot MAE\n",
    "plt.subplot(1, 2, 1)\n",
    "plt.plot(history.history['mae'], label='Training MAE', color='blue', linewidth=2)\n",
    "plt.plot(history.history['val_mae'], label='Validation MAE', color='red', linewidth=2)\n",
    "plt.title('Mean Absolute Error Over Epochs')\n",
    "plt.xlabel('Epoch')\n",
    "plt.ylabel('MAE')\n",
    "plt.legend()\n",
    "plt.grid(True)\n",
    "\n",
    "# Plot Loss (MSE)\n",
    "plt.subplot(1, 2, 2)\n",
    "plt.plot(history.history['loss'], label='Training Loss (MSE)', color='blue', linewidth=2)\n",
    "plt.plot(history.history['val_loss'], label='Validation Loss (MSE)', color='red', linewidth=2)\n",
    "plt.title('Loss (MSE) Over Epochs')\n",
    "plt.xlabel('Epoch')\n",
    "plt.ylabel('Loss (MSE)')\n",
    "plt.legend()\n",
    "plt.grid(True)\n",
    "\n",
    "plt.tight_layout()\n",
    "plt.show()"
   ]
  },
  {
   "cell_type": "markdown",
   "id": "ae03ed94",
   "metadata": {},
   "source": [
    "# Prediction"
   ]
  },
  {
   "cell_type": "code",
   "execution_count": 121,
   "id": "ce415989",
   "metadata": {},
   "outputs": [
    {
     "name": "stdout",
     "output_type": "stream",
     "text": [
      "\u001b[1m171/171\u001b[0m \u001b[32m━━━━━━━━━━━━━━━━━━━━\u001b[0m\u001b[37m\u001b[0m \u001b[1m1s\u001b[0m 8ms/step\n",
      "\u001b[1m42/42\u001b[0m \u001b[32m━━━━━━━━━━━━━━━━━━━━\u001b[0m\u001b[37m\u001b[0m \u001b[1m0s\u001b[0m 7ms/step\n"
     ]
    }
   ],
   "source": [
    "train_predict = model.predict(X_train)\n",
    "test_predict = model.predict(X_test)"
   ]
  },
  {
   "cell_type": "code",
   "execution_count": 122,
   "id": "79865c58",
   "metadata": {},
   "outputs": [],
   "source": [
    "# Tranform back to original form\n",
    "train_predict = scaler.inverse_transform(train_predict)\n",
    "test_predict = scaler.inverse_transform(test_predict)"
   ]
  },
  {
   "cell_type": "code",
   "execution_count": 123,
   "id": "f2034975",
   "metadata": {},
   "outputs": [
    {
     "data": {
      "text/plain": [
       "1669.5980855985958"
      ]
     },
     "execution_count": 123,
     "metadata": {},
     "output_type": "execute_result"
    }
   ],
   "source": [
    "# Calculate RMSE performance metrics \n",
    "import math\n",
    "\n",
    "from sklearn.metrics import mean_squared_error\n",
    "\n",
    "math.sqrt(mean_squared_error(y_train, train_predict))"
   ]
  },
  {
   "cell_type": "code",
   "execution_count": 124,
   "id": "6ed0693d",
   "metadata": {},
   "outputs": [
    {
     "data": {
      "text/plain": [
       "4527.677989816647"
      ]
     },
     "execution_count": 124,
     "metadata": {},
     "output_type": "execute_result"
    }
   ],
   "source": [
    "# Test data RMSE\n",
    "math.sqrt(mean_squared_error(y_test, test_predict))"
   ]
  },
  {
   "cell_type": "markdown",
   "id": "27e11cc0",
   "metadata": {},
   "source": [
    "# Plotting"
   ]
  },
  {
   "cell_type": "code",
   "execution_count": 125,
   "id": "25c67623",
   "metadata": {},
   "outputs": [
    {
     "data": {
      "image/png": "[encoded data removed]",
      "text/plain": [
       "<Figure size 640x480 with 1 Axes>"
      ]
     },
     "metadata": {},
     "output_type": "display_data"
    }
   ],
   "source": [
    "# Shift train predictions for plotting\n",
    "look_back = 60\n",
    "\n",
    "trainPredictPlot = np.empty_like(df1)\n",
    "trainPredictPlot[:, :] = np.nan\n",
    "trainPredictPlot[look_back: len(train_predict) + look_back, :] = train_predict\n",
    "\n",
    "# Shift test predictions for plotting \n",
    "testPredictPlot = np.empty_like(df1)\n",
    "testPredictPlot[:, :] = np.nan\n",
    "testPredictPlot[len(train_predict) + (look_back * 2) + 1:len(df1) - 1, :] = test_predict\n",
    "\n",
    "# Plot baseline & predictions \n",
    "plt.plot(scaler.inverse_transform(df1))\n",
    "plt.plot(trainPredictPlot)\n",
    "plt.plot(testPredictPlot)\n",
    "plt.show()\n"
   ]
  },
  {
   "cell_type": "code",
   "execution_count": 126,
   "id": "b7e7405e",
   "metadata": {},
   "outputs": [
    {
     "data": {
      "text/plain": [
       "1382"
      ]
     },
     "execution_count": 126,
     "metadata": {},
     "output_type": "execute_result"
    }
   ],
   "source": [
    "len(test_data)"
   ]
  },
  {
   "cell_type": "code",
   "execution_count": 127,
   "id": "4e5c0322",
   "metadata": {},
   "outputs": [
    {
     "data": {
      "text/plain": [
       "(1, 560)"
      ]
     },
     "execution_count": 127,
     "metadata": {},
     "output_type": "execute_result"
    }
   ],
   "source": [
    "x_input = test_data[822:].reshape(1, -1)\n",
    "x_input.shape"
   ]
  },
  {
   "cell_type": "code",
   "execution_count": 128,
   "id": "e42946a2",
   "metadata": {},
   "outputs": [],
   "source": [
    "temp_input = list(x_input)\n",
    "temp_input = temp_input[0].tolist()"
   ]
  },
  {
   "cell_type": "code",
   "execution_count": 129,
   "id": "8e6609d6",
   "metadata": {},
   "outputs": [
    {
     "data": {
      "text/plain": [
       "[0.6025912676329408,\n",
       " 0.6129321545956975,\n",
       " 0.6171423996503563,\n",
       " 0.6278380920771529,\n",
       " 0.6306180415586775,\n",
       " 0.6262450843078241,\n",
       " 0.624375858743309,\n",
       " 0.6270534656469857,\n",
       " 0.6278014773678007,\n",
       " 0.6277703995169359,\n",
       " 0.6246630162992165,\n",
       " 0.6345887728316714,\n",
       " 0.633019519971337,\n",
       " 0.6355214655742921,\n",
       " 0.6361707961881944,\n",
       " 0.6361067650989126,\n",
       " 0.6315837768438843,\n",
       " 0.6322659713920346,\n",
       " 0.6329097651474495,\n",
       " 0.6209465786478822,\n",
       " 0.6180861214578673,\n",
       " 0.6326006834180152,\n",
       " 0.6388428662333837,\n",
       " 0.6385484303876904,\n",
       " 0.6297164266669215,\n",
       " 0.624443551303526,\n",
       " 0.6190426584136517,\n",
       " 0.6327652710017619,\n",
       " 0.6331073059696131,\n",
       " 0.629641411164834,\n",
       " 0.633019519971337,\n",
       " 0.6317355939314423,\n",
       " 0.6305394538898239,\n",
       " 0.6327707185560801,\n",
       " 0.6279459715134882,\n",
       " 0.6368840685872094,\n",
       " 0.6440681424746212,\n",
       " 0.6429580023478959,\n",
       " 0.6430768661970369,\n",
       " 0.6344716950659134,\n",
       " 0.6289226912115008,\n",
       " 0.6355141426324217,\n",
       " 0.645421636462285,\n",
       " 0.6454344069584736,\n",
       " 0.6407358467068931,\n",
       " 0.6482692785040266,\n",
       " 0.6594899008370971,\n",
       " 0.6579206479767628,\n",
       " 0.659760581773796,\n",
       " 0.6567738931406852,\n",
       " 0.6616041770417646,\n",
       " 0.6625057919335205,\n",
       " 0.6698344492707891,\n",
       " 0.6753358540030437,\n",
       " 0.6759906321712643,\n",
       " 0.6857297876422767,\n",
       " 0.6827577448929066,\n",
       " 0.6789389200116399,\n",
       " 0.6747286749569811,\n",
       " 0.6776916086810976,\n",
       " 0.6715536438311293,\n",
       " 0.6679853171443331,\n",
       " 0.6770551378675531,\n",
       " 0.6767715971304963,\n",
       " 0.6803526943134811,\n",
       " 0.6902180365755048,\n",
       " 0.6911709120603539,\n",
       " 0.6895669198782195,\n",
       " 0.6831235347697522,\n",
       " 0.6808118070470902,\n",
       " 0.682746760480101,\n",
       " 0.6881842234272431,\n",
       " 0.6942015383446873,\n",
       " 0.7011295771791412,\n",
       " 0.7002845811306274,\n",
       " 0.7034614876440315,\n",
       " 0.70934886499536,\n",
       " 0.7113131995000217,\n",
       " 0.7056708727888455,\n",
       " 0.7059396783379922,\n",
       " 0.7092867092936304,\n",
       " 0.7116313902547093,\n",
       " 0.7115015419927627,\n",
       " 0.7061354330767728,\n",
       " 0.7143327520673803,\n",
       " 0.7155636314307988,\n",
       " 0.7133268299060551,\n",
       " 0.7017422930836913,\n",
       " 0.6996390012918294,\n",
       " 0.6952750637620605,\n",
       " 0.7026658768010586,\n",
       " 0.6991798885582203,\n",
       " 0.6933876201470385,\n",
       " 0.6935924839110725,\n",
       " 0.692718196095077,\n",
       " 0.6974131841798915,\n",
       " 0.687928188374285,\n",
       " 0.6817957603828041,\n",
       " 0.6755827800307483,\n",
       " 0.6754639161816074,\n",
       " 0.680961748747096,\n",
       " 0.6787267333057354,\n",
       " 0.687589814877369,\n",
       " 0.6766710406360315,\n",
       " 0.6820481339648269,\n",
       " 0.6870960521261291,\n",
       " 0.6988598224159805,\n",
       " 0.7020129740203902,\n",
       " 0.7006943086586955,\n",
       " 0.7021775616041368,\n",
       " 0.69871354218691,\n",
       " 0.6929797680065224,\n",
       " 0.690357083166874,\n",
       " 0.6915184838866925,\n",
       " 0.6969997951808881,\n",
       " 0.6923249898383018,\n",
       " 0.6933382349414975,\n",
       " 0.700226086899833,\n",
       " 0.6902070521626992,\n",
       " 0.6907941377707028,\n",
       " 0.6890420792761147,\n",
       " 0.6814062155969642,\n",
       " 0.6682011653211728,\n",
       " 0.6663832003497508,\n",
       " 0.6695618929465379,\n",
       " 0.6578730488546048,\n",
       " 0.6580522823220923,\n",
       " 0.6626594844086307,\n",
       " 0.6605286869326702,\n",
       " 0.6605909319385689,\n",
       " 0.6498111149844313,\n",
       " 0.6560843756506646,\n",
       " 0.6550674690765337,\n",
       " 0.6642689241450834,\n",
       " 0.6692363792499798,\n",
       " 0.6733661612482329,\n",
       " 0.6767881184017893,\n",
       " 0.6717877100584759,\n",
       " 0.6677950992640399,\n",
       " 0.6761808500515575,\n",
       " 0.676102262382704,\n",
       " 0.6653846011302961,\n",
       " 0.658690628523189,\n",
       " 0.6488435936158414,\n",
       " 0.6475413602212707,\n",
       " 0.6531452861397117,\n",
       " 0.6420051268630468,\n",
       " 0.6329445044692494,\n",
       " 0.6293122359973407,\n",
       " 0.638356337119845,\n",
       " 0.6432908389863244,\n",
       " 0.6513492006897318,\n",
       " 0.6659661498798122,\n",
       " 0.67338437929874,\n",
       " 0.6747817216334572,\n",
       " 0.6770496010090656,\n",
       " 0.677854320877292,\n",
       " 0.6713744103636416,\n",
       " 0.6837911727383306,\n",
       " 0.6831162118278817,\n",
       " 0.6985068923394928,\n",
       " 0.6998200208427,\n",
       " 0.7008004020116478,\n",
       " 0.701857495461897,\n",
       " 0.7079588456025131,\n",
       " 0.7062780518349082,\n",
       " 0.7096488376995407,\n",
       " 0.7101462619217159,\n",
       " 0.7085167287472041,\n",
       " 0.709332433028236,\n",
       " 0.7085441451271336,\n",
       " 0.711693545956439,\n",
       " 0.7166006314429888,\n",
       " 0.7120556743623493,\n",
       " 0.7115802189657854,\n",
       " 0.7083173125374882,\n",
       " 0.7149472540553135,\n",
       " 0.7183820710092278,\n",
       " 0.7216869503970262,\n",
       " 0.7255753432260622,\n",
       " 0.7371689890736796,\n",
       " 0.7394478528620937,\n",
       " 0.7393820356894288,\n",
       " 0.743290521956524,\n",
       " 0.7483768409105613,\n",
       " 0.7355705337500326,\n",
       " 0.7444226309088606,\n",
       " 0.7458638215906314,\n",
       " 0.749543689184698,\n",
       " 0.7507928759027926,\n",
       " 0.7511166035159677,\n",
       " 0.7486438603763251,\n",
       " 0.7437056970389104,\n",
       " 0.7367520279079101,\n",
       " 0.7338019539841515,\n",
       " 0.7353675453735506,\n",
       " 0.7474934440693124,\n",
       " 0.7462058565584826,\n",
       " 0.7511349108706438,\n",
       " 0.7505478252626402,\n",
       " 0.7512043895142438,\n",
       " 0.7479396970025636,\n",
       " 0.7430435959288194,\n",
       " 0.7506757981370347,\n",
       " 0.7614428445949835,\n",
       " 0.7633852102740338,\n",
       " 0.7659768172628174,\n",
       " 0.7666991986870858,\n",
       " 0.7713832023590946,\n",
       " 0.7707997782220263,\n",
       " 0.7775595680017983,\n",
       " 0.7770182061284003,\n",
       " 0.7625109224580383,\n",
       " 0.7735833891744861,\n",
       " 0.7831707275579405,\n",
       " 0.7802810232525283,\n",
       " 0.7823696691606493,\n",
       " 0.7898372837851179,\n",
       " 0.7903585522204566,\n",
       " 0.7956075833706885,\n",
       " 0.7947351709422451,\n",
       " 0.7821757898094209,\n",
       " 0.7908541903592488,\n",
       " 0.7961782370115682,\n",
       " 0.79175946672194,\n",
       " 0.7862616341564513,\n",
       " 0.7874120504634641,\n",
       " 0.8066580812615249,\n",
       " 0.8069818088747001,\n",
       " 0.8034574198391266,\n",
       " 0.8050395324998189,\n",
       " 0.8034994821027971,\n",
       " 0.8083480733585525,\n",
       " 0.815812026512086,\n",
       " 0.814690901972555,\n",
       " 0.8051254431105428,\n",
       " 0.8099008049475939,\n",
       " 0.8195210965694651,\n",
       " 0.8133630382814377,\n",
       " 0.8123113923855068,\n",
       " 0.8227967734939511,\n",
       " 0.8209751470515938,\n",
       " 0.8182628008261171,\n",
       " 0.8121559138270136,\n",
       " 0.8180689214748887,\n",
       " 0.8233893066562729,\n",
       " 0.8318226565659483,\n",
       " 0.8349153492478423,\n",
       " 0.8335711428937703,\n",
       " 0.8306466099623891,\n",
       " 0.8279745399171998,\n",
       " 0.8361883801791004,\n",
       " 0.8372601195130904,\n",
       " 0.8353250767759105,\n",
       " 0.8283823920577158,\n",
       " 0.829421267457458,\n",
       " 0.8176647308053079,\n",
       " 0.8281134972044,\n",
       " 0.827756905656977,\n",
       " 0.829132279166083,\n",
       " 0.8201210419778265,\n",
       " 0.8271478512233622,\n",
       " 0.8133118669925138,\n",
       " 0.8020473070082206,\n",
       " 0.8001434314260746,\n",
       " 0.7948028635024622,\n",
       " 0.7927745872126878,\n",
       " 0.7847473033601453,\n",
       " 0.7926794782725413,\n",
       " 0.8036439762484846,\n",
       " 0.8038415170706482,\n",
       " 0.7995965326941894,\n",
       " 0.8090229449648323,\n",
       " 0.8119876647723318,\n",
       " 0.7972682837002343,\n",
       " 0.7941042369871881,\n",
       " 0.8024826648328354,\n",
       " 0.8141129253898048,\n",
       " 0.823797248100958,\n",
       " 0.8250701897280469,\n",
       " 0.8250646528695595,\n",
       " 0.8298949367706389,\n",
       " 0.8314678511019085,\n",
       " 0.8312373570413278,\n",
       " 0.8358573296240549,\n",
       " 0.8470998314785676,\n",
       " 0.8450788781306637,\n",
       " 0.8462073256120651,\n",
       " 0.8470961700076324,\n",
       " 0.8495250648002214,\n",
       " 0.8468913062435983,\n",
       " 0.8397273257942456,\n",
       " 0.8464725589944457,\n",
       " 0.846713948163663,\n",
       " 0.8395646135980511,\n",
       " 0.8338088705920522,\n",
       " 0.8414959055601267,\n",
       " 0.8425731817526041,\n",
       " 0.8440253568471806,\n",
       " 0.8554910298204035,\n",
       " 0.855295364385792,\n",
       " 0.8542035316137429,\n",
       " 0.8567274460423093,\n",
       " 0.8593848702037578,\n",
       " 0.8677449906947289,\n",
       " 0.8700696675219178,\n",
       " 0.8696782473485257,\n",
       " 0.8772921422020649,\n",
       " 0.8798160566306313,\n",
       " 0.8772811577892593,\n",
       " 0.8757174417874122,\n",
       " 0.8726539515688309,\n",
       " 0.8765733329445625,\n",
       " 0.8781462472758322,\n",
       " 0.8790552744136276,\n",
       " 0.8749602317371746,\n",
       " 0.8776323017823638,\n",
       " 0.8838360838049971,\n",
       " 0.8889590174683867,\n",
       " 0.8944769434719345,\n",
       " 0.8955121574007415,\n",
       " 0.8962674920634269,\n",
       " 0.9066797330573358,\n",
       " 0.8976501885144034,\n",
       " 0.903285192283709,\n",
       " 0.9061877563894788,\n",
       " 0.9127683127017633,\n",
       " 0.8983323830625535,\n",
       " 0.8903435000027461,\n",
       " 0.8831027179679228,\n",
       " 0.8939685348369536,\n",
       " 0.8923828500094954,\n",
       " 0.8688606676799415,\n",
       " 0.8637561306753971,\n",
       " 0.8747078581551518,\n",
       " 0.8755199009652486,\n",
       " 0.8705634302731577,\n",
       " 0.8862667646809691,\n",
       " 0.8724363173086082,\n",
       " 0.8541248546407202,\n",
       " 0.8248196022294071,\n",
       " 0.8346410068402081,\n",
       " 0.827228314279768,\n",
       " 0.8491409675686998,\n",
       " 0.8536859246493393,\n",
       " 0.8537279869130099,\n",
       " 0.8701958543129292,\n",
       " 0.8739963718395198,\n",
       " 0.8900930018082754,\n",
       " 0.8921102936852442,\n",
       " 0.9019866203600736,\n",
       " 0.8999510211284286,\n",
       " 0.9042911144450342,\n",
       " 0.8951079667311607,\n",
       " 0.9068077059317302,\n",
       " 0.903557659303791,\n",
       " 0.9051963908077253,\n",
       " 0.8990475308491205,\n",
       " 0.8990072546688331,\n",
       " 0.9093298342769137,\n",
       " 0.8874794259938806,\n",
       " 0.8858589125404531,\n",
       " 0.8828119435931648,\n",
       " 0.8654387105263851,\n",
       " 0.8768933990868023,\n",
       " 0.8813688775238419,\n",
       " 0.8920883248596329,\n",
       " 0.899702219713172,\n",
       " 0.9052366669880129,\n",
       " 0.906529702053161,\n",
       " 0.9068022583774119,\n",
       " 0.9038173558276842,\n",
       " 0.9212619429256163,\n",
       " 0.9192335773316728,\n",
       " 0.9221635578173722,\n",
       " 0.924789993432125,\n",
       " 0.9228384294236519,\n",
       " 0.9270651957496038,\n",
       " 0.9257483164712922,\n",
       " 0.93019450314085,\n",
       " 0.9203675616715615,\n",
       " 0.9205120558172489,\n",
       " 0.9187562465475566,\n",
       " 0.9281076433161121,\n",
       " 0.9180246667938655,\n",
       " 0.9281186277289176,\n",
       " 0.9356008882371273,\n",
       " 0.933407935059437,\n",
       " 0.9398055964332986,\n",
       " 0.9480030047280753,\n",
       " 0.9398476586969692,\n",
       " 0.9448243121312881,\n",
       " 0.9446414171928655,\n",
       " 0.9488845261817721,\n",
       " 0.9469293900065331,\n",
       " 0.9464209813715522,\n",
       " 0.9365848415728412,\n",
       " 0.93886004389032,\n",
       " 0.9385418531356323,\n",
       " 0.9413584173265092,\n",
       " 0.9430776118868492,\n",
       " 0.939556884322211,\n",
       " 0.919764044096434,\n",
       " 0.9240345694652704,\n",
       " 0.9210881570124468,\n",
       " 0.9339035731982291,\n",
       " 0.9606574948010461,\n",
       " 0.9687158565044535,\n",
       " 0.9728200082061601,\n",
       " 0.9738826385148968,\n",
       " 0.9707076073890447,\n",
       " 0.9709617670544507,\n",
       " 0.9643391484784959,\n",
       " 0.9499727867870552,\n",
       " 0.9541793703707789,\n",
       " 0.9584517711271673,\n",
       " 0.9584755260361616,\n",
       " 0.9642550239511548,\n",
       " 0.9680281250978159,\n",
       " 0.9713257708479132,\n",
       " 0.977591708572276,\n",
       " 0.9734053077307806,\n",
       " 0.9795578291603207,\n",
       " 0.9822591909729917,\n",
       " 0.982758490582719,\n",
       " 0.9894543385773783,\n",
       " 0.9873729263069587,\n",
       " 0.990145642150782,\n",
       " 0.9833017278436692,\n",
       " 0.980020603364865,\n",
       " 0.9890336266365044,\n",
       " 0.9830090780813588,\n",
       " 0.9829797863138771,\n",
       " 0.9871845838142176,\n",
       " 0.9828920003156009,\n",
       " 0.9502544521365598,\n",
       " 0.9493253315607052,\n",
       " 0.9609885453560917,\n",
       " 0.9688932145843888,\n",
       " 0.9809588329659732,\n",
       " 0.9805107046451697,\n",
       " 0.96830246750545,\n",
       " 0.9566154988010692,\n",
       " 0.9519864171930886,\n",
       " 0.9495941371098519,\n",
       " 0.9631138059735648,\n",
       " 0.9691328176702231,\n",
       " 0.9569977206450387,\n",
       " 0.9586840512711309,\n",
       " 0.9420022110819241,\n",
       " 0.943681218766146,\n",
       " 0.9449047751876939,\n",
       " 0.9644745335989299,\n",
       " 0.9621754870682874,\n",
       " 0.9730248719701943,\n",
       " 0.9826415021211302,\n",
       " 0.989432369751767,\n",
       " 0.9953471634830252,\n",
       " 0.9921520389191142,\n",
       " 0.9758816230371893,\n",
       " 0.9860177355400811,\n",
       " 0.9808253232330914,\n",
       " 0.9866523309660732,\n",
       " 0.9810484050476324,\n",
       " 0.9726425608220556,\n",
       " 0.980563751321646,\n",
       " 0.984880089729257,\n",
       " 0.9889202103416818,\n",
       " 0.9783891948028011,\n",
       " 0.9857872414795005,\n",
       " 0.9861640157691515,\n",
       " 0.9831408017308577,\n",
       " 0.994681400901999,\n",
       " 0.9946009378455932,\n",
       " 0.9973352528966811,\n",
       " 0.9999999999999999,\n",
       " 0.9951295292228023,\n",
       " 0.9760371015956825,\n",
       " 0.9705722222686107,\n",
       " 0.9654511639927733,\n",
       " 0.965599319609396,\n",
       " 0.9483175340118276,\n",
       " 0.9653139927889564,\n",
       " 0.9461503004348532,\n",
       " 0.9330604525372675,\n",
       " 0.9448535145946008,\n",
       " 0.9258123475605741,\n",
       " 0.9316064913593082,\n",
       " 0.9031406981380216,\n",
       " 0.8953694493384369,\n",
       " 0.900349674939522,\n",
       " 0.8861241459228338,\n",
       " 0.9075996553037678,\n",
       " 0.9142168263254046,\n",
       " 0.9031590054926976,\n",
       " 0.9142479041762693,\n",
       " 0.9119800248006608,\n",
       " 0.9128341298744281,\n",
       " 0.9311254098000877,\n",
       " 0.9327861101296334,\n",
       " 0.9209985849307877,\n",
       " 0.9175436745388142,\n",
       " 0.8969917488752476,\n",
       " 0.9026450599992294,\n",
       " 0.9065260405822256,\n",
       " 0.9134578301917838,\n",
       " 0.863262278619988,\n",
       " 0.8042896453914516,\n",
       " 0.8021259839812432,\n",
       " 0.7875894978475686,\n",
       " 0.8743054535689541,\n",
       " 0.8397657265869809,\n",
       " 0.8571974538845549,\n",
       " 0.8649906715097508,\n",
       " 0.8632823720580471,\n",
       " 0.8411649443092504,\n",
       " 0.8424452088782097,\n",
       " 0.8196747890445754,\n",
       " 0.84337057867896,\n",
       " 0.8594836406148395,\n",
       " 0.8794027569357971,\n",
       " 0.8867990175291135,\n",
       " 0.8874464727554635,\n",
       " 0.8933137566687329,\n",
       " 0.8948189784397856,\n",
       " 0.9012349471683233,\n",
       " 0.9163292271425197,\n",
       " 0.909691962682824,\n",
       " 0.901741569719921,\n",
       " 0.9061986514981154,\n",
       " 0.912172028764337,\n",
       " 0.9114350014563278,\n",
       " 0.9451388414150407,\n",
       " 0.9528862460014617,\n",
       " 0.9539891524904857,\n",
       " 0.9584426621019139,\n",
       " 0.9660236037170359,\n",
       " 0.9669783545894372,\n",
       " 0.962746140709167,\n",
       " 0.9452156430005111,\n",
       " 0.9447400982997781,\n",
       " 0.9375724563794902,\n",
       " 0.9592857827628755,\n",
       " 0.9532520358783071,\n",
       " 0.9575720357568535,\n",
       " 0.9574842497585773,\n",
       " 0.9619194520153295,\n",
       " 0.9682165568947262,\n",
       " 0.9682970199511319,\n",
       " 0.9625339540032626,\n",
       " 0.9737015296598569,\n",
       " 0.9747111132921175,\n",
       " 0.98073387576388,\n",
       " 0.9777033387837156,\n",
       " 0.9819134945342053,\n",
       " 0.9694236813491502,\n",
       " 0.9796913388932026,\n",
       " 0.9704753272450811,\n",
       " 0.9701369537481651,\n",
       " 0.9664314558575521]"
      ]
     },
     "execution_count": 129,
     "metadata": {},
     "output_type": "execute_result"
    }
   ],
   "source": [
    "temp_input"
   ]
  },
  {
   "cell_type": "markdown",
   "id": "0f3e5674",
   "metadata": {},
   "source": [
    "# Prediction for the next 30 days "
   ]
  },
  {
   "cell_type": "code",
   "execution_count": 130,
   "id": "88264136",
   "metadata": {},
   "outputs": [],
   "source": [
    "from numpy import array"
   ]
  },
  {
   "cell_type": "code",
   "execution_count": 131,
   "id": "94c453f7",
   "metadata": {},
   "outputs": [],
   "source": [
    "lst_output = []\n",
    "n_steps = 60                # Equal to time_steps\n",
    "i = 0"
   ]
  },
  {
   "cell_type": "code",
   "execution_count": 132,
   "id": "3c25875e",
   "metadata": {},
   "outputs": [
    {
     "name": "stdout",
     "output_type": "stream",
     "text": [
      "0 day input (60,)\n",
      "0 day output [[0.9495036]]\n",
      "1 day input (60,)\n",
      "1 day output [[0.95001775]]\n",
      "2 day input (60,)\n",
      "2 day output [[0.9501003]]\n",
      "3 day input (60,)\n",
      "3 day output [[0.94978374]]\n",
      "4 day input (60,)\n",
      "4 day output [[0.9491329]]\n",
      "5 day input (60,)\n",
      "5 day output [[0.9482217]]\n",
      "6 day input (60,)\n",
      "6 day output [[0.94712114]]\n",
      "7 day input (60,)\n",
      "7 day output [[0.9458919]]\n",
      "8 day input (60,)\n",
      "8 day output [[0.94458246]]\n",
      "9 day input (60,)\n",
      "9 day output [[0.9432293]]\n",
      "10 day input (60,)\n",
      "10 day output [[0.9418591]]\n",
      "11 day input (60,)\n",
      "11 day output [[0.9404894]]\n",
      "12 day input (60,)\n",
      "12 day output [[0.93913186]]\n",
      "13 day input (60,)\n",
      "13 day output [[0.93779314]]\n",
      "14 day input (60,)\n",
      "14 day output [[0.93647677]]\n",
      "15 day input (60,)\n",
      "15 day output [[0.93518513]]\n",
      "16 day input (60,)\n",
      "16 day output [[0.93391705]]\n",
      "17 day input (60,)\n",
      "17 day output [[0.9326739]]\n",
      "18 day input (60,)\n",
      "18 day output [[0.93145347]]\n",
      "19 day input (60,)\n",
      "19 day output [[0.9302558]]\n",
      "20 day input (60,)\n",
      "20 day output [[0.9290794]]\n",
      "21 day input (60,)\n",
      "21 day output [[0.9279239]]\n",
      "22 day input (60,)\n",
      "22 day output [[0.92678833]]\n",
      "23 day input (60,)\n",
      "23 day output [[0.9256722]]\n",
      "24 day input (60,)\n",
      "24 day output [[0.92457455]]\n",
      "25 day input (60,)\n",
      "25 day output [[0.9234956]]\n",
      "26 day input (60,)\n",
      "26 day output [[0.9224344]]\n",
      "27 day input (60,)\n",
      "27 day output [[0.92139065]]\n",
      "28 day input (60,)\n",
      "28 day output [[0.92036384]]\n",
      "29 day input (60,)\n",
      "29 day output [[0.91935414]]\n",
      "[np.float32(0.9495036), np.float32(0.95001775), np.float32(0.9501003), np.float32(0.94978374), np.float32(0.9491329), np.float32(0.9482217), np.float32(0.94712114), np.float32(0.9458919), np.float32(0.94458246), np.float32(0.9432293), np.float32(0.9418591), np.float32(0.9404894), np.float32(0.93913186), np.float32(0.93779314), np.float32(0.93647677), np.float32(0.93518513), np.float32(0.93391705), np.float32(0.9326739), np.float32(0.93145347), np.float32(0.9302558), np.float32(0.9290794), np.float32(0.9279239), np.float32(0.92678833), np.float32(0.9256722), np.float32(0.92457455), np.float32(0.9234956), np.float32(0.9224344), np.float32(0.92139065), np.float32(0.92036384), np.float32(0.91935414)]\n"
     ]
    }
   ],
   "source": [
    "while(i < 30):\n",
    "    \n",
    "    if(len(temp_input) > 60):               # time_step = 60\n",
    "\n",
    "        # Take only the LAST 60 elements, not all elements from index 1\n",
    "        x_input = np.array(temp_input[-60:])            # Fixed: last 60 elements\n",
    "        \n",
    "        print(\"{} day input {}\".format(i, x_input.shape))\n",
    "        \n",
    "        x_input = x_input.reshape((1, n_steps, 1))\n",
    "\n",
    "        yhat = model.predict(x_input, verbose=0)\n",
    "\n",
    "        print(\"{} day output {}\".format(i, yhat))\n",
    "        \n",
    "        temp_input.append(yhat[0][0])\n",
    "        \n",
    "        lst_output.append(yhat[0][0])\n",
    "        i = i + 1\n",
    "\n",
    "    else:\n",
    "        x_input = np.array(temp_input).reshape((1, len(temp_input), 1))\n",
    "\n",
    "        yhat = model.predict(x_input, verbose=0)\n",
    "\n",
    "        print(yhat[0])\n",
    "\n",
    "        temp_input.append(yhat[0][0])\n",
    "\n",
    "        lst_output.append(yhat[0][0])\n",
    "        i = i + 1\n",
    "\n",
    "print(lst_output)"
   ]
  },
  {
   "cell_type": "code",
   "execution_count": 133,
   "id": "86239080",
   "metadata": {},
   "outputs": [],
   "source": [
    "day_new = np.arange(1, 101)\n",
    "day_pred = np.arange(101, 131)"
   ]
  },
  {
   "cell_type": "code",
   "execution_count": 135,
   "id": "b43a6757",
   "metadata": {},
   "outputs": [
    {
     "data": {
      "text/plain": [
       "6909"
      ]
     },
     "execution_count": 135,
     "metadata": {},
     "output_type": "execute_result"
    }
   ],
   "source": [
    "len(df1)"
   ]
  },
  {
   "cell_type": "code",
   "execution_count": 136,
   "id": "cfe109d7",
   "metadata": {},
   "outputs": [],
   "source": [
    "df3 = df1.tolist()\n",
    "df3.extend(lst_output)"
   ]
  },
  {
   "cell_type": "code",
   "execution_count": 137,
   "id": "06c75766",
   "metadata": {},
   "outputs": [
    {
     "data": {
      "image/png": "[encoded data removed]",
      "text/plain": [
       "<Figure size 1200x600 with 1 Axes>"
      ]
     },
     "metadata": {},
     "output_type": "display_data"
    }
   ],
   "source": [
    "plt.figure(figsize=(12, 6))\n",
    "\n",
    "# Plot historical data (last 100 days)\n",
    "plt.plot(day_new, scaler.inverse_transform(df1[6809:]), \n",
    "         label='Historical S&P 500', color='blue', linewidth=2)\n",
    "\n",
    "# Plot future predictions (next 30 days)\n",
    "plt.plot(day_pred, scaler.inverse_transform(np.array(lst_output).reshape(-1, 1)), \n",
    "         label='30-Day Predictions', color='red', linewidth=2, marker='o', markersize=3)\n",
    "\n",
    "plt.title('S&P 500 Price Prediction: Historical vs Future 30 Days', fontsize=14)\n",
    "plt.xlabel('Days', fontsize=12)\n",
    "plt.ylabel('S&P 500 Price ($)', fontsize=12)\n",
    "plt.legend(fontsize=11)\n",
    "plt.grid(True, alpha=0.3)\n",
    "plt.show()"
   ]
  },
  {
   "cell_type": "code",
   "execution_count": null,
   "id": "ac637ea8",
   "metadata": {},
   "outputs": [
    {
     "data": {
      "image/png": "[encoded data removed]",
      "text/plain": [
       "<Figure size 1500x800 with 1 Axes>"
      ]
     },
     "metadata": {},
     "output_type": "display_data"
    }
   ],
   "source": [
    "plt.figure(figsize=(15, 8))\n",
    "\n",
    "# Last 200 historical days + 30 predictions\n",
    "zoom_start = max(0, historical_end - 200)\n",
    "historical_zoom = df3_scaled[zoom_start:historical_end]\n",
    "predictions_zoom = df3_scaled[historical_end:]\n",
    "\n",
    "# Plot historical data (last 200 days)\n",
    "plt.plot(range(200), historical_zoom, \n",
    "         linewidth=3, color='blue', label='Historical S&P 500 (Last 200 Days)')\n",
    "\n",
    "# Plot predictions (next 30 days)\n",
    "plt.plot(range(200, 230), predictions_zoom, \n",
    "         linewidth=3, color='red', marker='o', markersize=6, \n",
    "         label='30-Day Predictions', markerfacecolor='red', markeredgecolor='darkred')\n",
    "\n",
    "# Add vertical line at prediction start\n",
    "plt.axvline(x=200, color='orange', linestyle='--', linewidth=2, alpha=0.8, \n",
    "           label='Prediction Start')\n",
    "\n",
    "# Enhanced styling\n",
    "plt.title('S&P 500: Zoomed View - Last 200 Days + 30-Day Predictions', fontsize=16, fontweight='bold')\n",
    "plt.xlabel('Days', fontsize=14)\n",
    "plt.ylabel('S&P 500 Price ($)', fontsize=14)\n",
    "plt.legend(fontsize=12, loc='upper left')\n",
    "plt.grid(True, alpha=0.3)\n",
    "\n",
    "for i, val in enumerate(predictions_zoom[::5]):         # Annotate every 5th prediction\n",
    "    plt.annotate(f'${val[0]:.0f}',\n",
    "                xy=(200 + i*5, val[0]), \n",
    "                xytext=(5, 10), textcoords='offset points',\n",
    "                fontsize=10, alpha=0.8)\n",
    "\n",
    "plt.tight_layout()\n",
    "plt.show()"
   ]
  },
  {
   "cell_type": "code",
   "execution_count": 143,
   "id": "75ea9869",
   "metadata": {},
   "outputs": [
    {
     "name": "stdout",
     "output_type": "stream",
     "text": [
      "=== RESUME-READY METRICS ===\n",
      "Model Accuracy (R² Score): 0.972\n",
      "Prediction Error (MAE): $103.48\n",
      "Error Percentage (MAPE): 2.41%\n",
      "Root Mean Square Error: $138.82\n",
      "Training Efficiency: 2.22% error\n"
     ]
    }
   ],
   "source": [
    "# Calculate comprehensive metrics for resume\n",
    "from sklearn.metrics import mean_squared_error, mean_absolute_error, r2_score\n",
    "\n",
    "# Transform back to original scale for accurate metrics\n",
    "y_train_original = scaler.inverse_transform(y_train.reshape(-1, 1))\n",
    "y_test_original = scaler.inverse_transform(y_test.reshape(-1, 1))\n",
    "\n",
    "# Calculate professional metrics\n",
    "train_mae = mean_absolute_error(y_train_original, train_predict)\n",
    "test_mae = mean_absolute_error(y_test_original, test_predict)\n",
    "train_rmse = np.sqrt(mean_squared_error(y_train_original, train_predict))\n",
    "test_rmse = np.sqrt(mean_squared_error(y_test_original, test_predict))\n",
    "test_r2 = r2_score(y_test_original, test_predict)\n",
    "\n",
    "# MAPE calculation\n",
    "def calculate_mape(actual, predicted):\n",
    "    return np.mean(np.abs((actual - predicted) / actual)) * 100\n",
    "\n",
    "train_mape = calculate_mape(y_train_original, train_predict)\n",
    "test_mape = calculate_mape(y_test_original, test_predict)\n",
    "\n",
    "print(\"=== RESUME-READY METRICS ===\")\n",
    "print(f\"Model Accuracy (R² Score): {test_r2:.3f}\")\n",
    "print(f\"Prediction Error (MAE): ${test_mae:.2f}\")\n",
    "print(f\"Error Percentage (MAPE): {test_mape:.2f}%\")\n",
    "print(f\"Root Mean Square Error: ${test_rmse:.2f}\")\n",
    "print(f\"Training Efficiency: {train_mape:.2f}% error\")"
   ]
  },
  {
   "cell_type": "code",
   "execution_count": null,
   "id": "2a101b08",
   "metadata": {},
   "outputs": [],
   "source": []
  }
 ],
 "metadata": {
  "kernelspec": {
   "display_name": ".venv",
   "language": "python",
   "name": "python3"
  },
  "language_info": {
   "codemirror_mode": {
    "name": "ipython",
    "version": 3
   },
   "file_extension": ".py",
   "mimetype": "text/x-python",
   "name": "python",
   "nbconvert_exporter": "python",
   "pygments_lexer": "ipython3",
   "version": "3.11.2"
  }
 },
 "nbformat": 4,
 "nbformat_minor": 5
}
